{
  "cells": [
    {
      "cell_type": "markdown",
      "source": [
        "# Sample Notebook"
      ],
      "metadata": {
        "id": "zaINxR6K9bIB"
      },
      "id": "zaINxR6K9bIB"
    },
    {
      "cell_type": "code",
      "source": [],
      "metadata": {
        "id": "JF2smbek9zVi"
      },
      "id": "JF2smbek9zVi",
      "execution_count": 13,
      "outputs": []
    },
    {
      "cell_type": "markdown",
      "source": [
        "Here is how to import custom python modules\n",
        "that are local to the notebook\n",
        "either on a home PC or on Google CoLab."
      ],
      "metadata": {
        "id": "RMW1lZ2j9fKo"
      },
      "id": "RMW1lZ2j9fKo"
    },
    {
      "cell_type": "code",
      "source": [
        "import sys\n",
        "try:\n",
        "    from google.colab import drive\n",
        "    IN_COLAB = True\n",
        "    PATH='/content/drive/'\n",
        "    drive.mount(PATH)\n",
        "    sys.path.append('/content/drive/My Drive/Colab Notebooks')\n",
        "except:\n",
        "    IN_COLAB = False\n",
        "print('Running on CoLab?', IN_COLAB)"
      ],
      "metadata": {
        "colab": {
          "base_uri": "https://localhost:8080/"
        },
        "id": "nRXGO0sC8hGF",
        "outputId": "d664bb8a-2ba5-415d-aedd-2c3160df2ffa"
      },
      "id": "nRXGO0sC8hGF",
      "execution_count": 14,
      "outputs": [
        {
          "output_type": "stream",
          "name": "stdout",
          "text": [
            "Drive already mounted at /content/drive/; to attempt to forcibly remount, call drive.mount(\"/content/drive/\", force_remount=True).\n",
            "Running on CoLab? True\n"
          ]
        }
      ]
    },
    {
      "cell_type": "code",
      "execution_count": 15,
      "id": "0b5017fa",
      "metadata": {
        "id": "0b5017fa"
      },
      "outputs": [],
      "source": [
        "from sample_module import Sample_Class"
      ]
    },
    {
      "cell_type": "code",
      "execution_count": 16,
      "id": "8ba7da14",
      "metadata": {
        "colab": {
          "base_uri": "https://localhost:8080/"
        },
        "id": "8ba7da14",
        "outputId": "cee3ce53-17e8-4d74-b4c4-79e11da5ec3b"
      },
      "outputs": [
        {
          "output_type": "stream",
          "name": "stdout",
          "text": [
            "Sample_Class\n",
            "It works!\n"
          ]
        }
      ],
      "source": [
        "sample = Sample_Class()\n",
        "print(sample)\n",
        "print('It works!')"
      ]
    },
    {
      "cell_type": "code",
      "execution_count": 16,
      "id": "76fdc9db",
      "metadata": {
        "id": "76fdc9db"
      },
      "outputs": [],
      "source": []
    }
  ],
  "metadata": {
    "kernelspec": {
      "display_name": "Python 3 (ipykernel)",
      "language": "python",
      "name": "python3"
    },
    "language_info": {
      "codemirror_mode": {
        "name": "ipython",
        "version": 3
      },
      "file_extension": ".py",
      "mimetype": "text/x-python",
      "name": "python",
      "nbconvert_exporter": "python",
      "pygments_lexer": "ipython3",
      "version": "3.10.0"
    },
    "colab": {
      "provenance": []
    }
  },
  "nbformat": 4,
  "nbformat_minor": 5
}