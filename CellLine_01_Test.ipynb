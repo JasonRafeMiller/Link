{
  "cells": [
    {
      "cell_type": "markdown",
      "metadata": {
        "id": "PG-tGRnlFLA3"
      },
      "source": [
        "# MLP\n",
        "Cell line 01 H1.hESC\n",
        "\n",
        "This notebook uses\n",
        "lncRNA, canonical, no middle-exclusion, GMM, learning module, test data."
      ]
    },
    {
      "cell_type": "code",
      "execution_count": 1,
      "metadata": {
        "colab": {
          "base_uri": "https://localhost:8080/"
        },
        "id": "0RmwUsVLFLA6",
        "outputId": "a511758a-f6bc-4156-a30e-89d0260aa223"
      },
      "outputs": [
        {
          "output_type": "stream",
          "name": "stdout",
          "text": [
            "2023-05-01 22:04:55.726985\n"
          ]
        }
      ],
      "source": [
        "SEED = 43\n",
        "import tensorflow as tf\n",
        "tf.random.set_seed(SEED) \n",
        "tf.keras.backend.set_floatx('float32')\n",
        "import numpy as np\n",
        "np.random.seed(SEED) \n",
        "from datetime import datetime\n",
        "print(datetime.now())"
      ]
    },
    {
      "cell_type": "code",
      "execution_count": 2,
      "metadata": {
        "colab": {
          "base_uri": "https://localhost:8080/"
        },
        "id": "OlzN9OdsFWEU",
        "outputId": "20a73751-d634-42e8-ad34-8dd12b6e4828"
      },
      "outputs": [
        {
          "output_type": "stream",
          "name": "stdout",
          "text": [
            "GPU device not found\n",
            "Running on CoLab\n",
            "Mounted at /content/drive/\n",
            "/content/drive/My Drive/data/Localization/TrainTest/TrainTest_ver43/\n"
          ]
        }
      ],
      "source": [
        "import sys\n",
        "device_name = tf.test.gpu_device_name()\n",
        "if device_name != '/device:GPU:0':\n",
        "    print('GPU device not found')\n",
        "else:\n",
        "    print('Found GPU at: {}'.format(device_name))\n",
        "\n",
        "try:\n",
        "    from google.colab import drive\n",
        "    IN_COLAB = True\n",
        "    print('Running on CoLab')\n",
        "    PATH='/content/drive/'\n",
        "    drive.mount(PATH)\n",
        "    DATA_DIR=PATH+'My Drive/data/Localization/TrainTest/TrainTest_ver43/'  # must end in \"/\"\n",
        "    MODEL_DIR=PATH+'My Drive/data/Localization/Models/'  # must end in \"/\"\n",
        "    sys.path.append('/content/drive/My Drive/Colab Notebooks')\n",
        "except:\n",
        "    IN_COLAB = False\n",
        "    DATA_DIR=\"/\"\n",
        "    MODEL_DIR=\"/\"\n",
        "print(DATA_DIR)\n",
        "SAVE_MODEL_FILENAME = None # 'hESC_mlp'\n",
        "SAVE_DESCRIM_FILENAME = None # 'hESC_gmm'\n",
        "LOAD_MODEL_FILENAME = 'hESC_mlp.1.3.model'\n",
        "LOAD_DESCRIM_FILENAME = 'hESC_gmm.1.3.pickle'"
      ]
    },
    {
      "cell_type": "code",
      "execution_count": 3,
      "metadata": {
        "colab": {
          "base_uri": "https://localhost:8080/"
        },
        "id": "PRX-UEr8FLA8",
        "outputId": "d682a1e9-cc05-4f9c-d707-9eb0a4c29ac0"
      },
      "outputs": [
        {
          "output_type": "stream",
          "name": "stdout",
          "text": [
            "Python 3.10.11\n",
            "sklearn 1.2.2\n"
          ]
        }
      ],
      "source": [
        "from platform import python_version\n",
        "print('Python',python_version())\n",
        "import pandas as pd\n",
        "import scipy.stats as ss\n",
        "import pickle\n",
        "import time # sleep function\n",
        "from os.path import isfile\n",
        "from matplotlib import pyplot as plt \n",
        "import sklearn   # pip install --upgrade scikit-learn\n",
        "print('sklearn',sklearn.__version__)\n",
        "\n",
        "from learning import DataLoader, CrossValidator, Separator, ModelBuilder\n",
        "\n",
        "K=5\n",
        "ALPHABET=4**K + 1\n",
        "EPOCHS=300 \n",
        "EMBED_DIMEN = 4 # arbitrary hyperparameter\n",
        "RCI_THRESHOLD_MECHANISM = 'RCI_GMM'  # 'RCI_GMM' 'ZERO' 'THE_MEAN'\n",
        "RCI_THRESHOLD_VALUE = -1  # use -1 for lncRNA, use 0 for mRNA\n",
        "BREAK = False   # optionally break after first fold\n",
        "FILTER_TRAIN        = False\n",
        "FILTER_TAILS_TRAIN  = False\n",
        "FILTER_MIDDLE_TRAIN = False\n",
        "FILTER_TEST         = False\n",
        "FILTER_TAILS_TEST   = False\n",
        "FILTER_MIDDLE_TEST  = False\n",
        "MIDDLE_LOW          = -2   # -2 for lncRNA, -1 for mRNA\n",
        "MIDDLE_HIGH         = 0    #  0 for lncRNA, +1 for mRNA\n",
        "\n",
        "REPEATS = 2\n",
        "FOLDS = 5"
      ]
    },
    {
      "cell_type": "code",
      "execution_count": 4,
      "metadata": {
        "id": "LnkpVKdMFLA-"
      },
      "outputs": [],
      "source": [
        "RCI_FILE_TRAIN = 'train.H1_RCI.csv'\n",
        "RCI_FILE_TEST  = 'test.H1_RCI.csv'\n",
        "\n",
        "SEQ_FILE_TRAIN = 'train.canon_H1_transcripts.csv'\n",
        "SEQ_FILE_TEST  = 'test.canon_H1_transcripts.csv'"
      ]
    },
    {
      "cell_type": "code",
      "execution_count": 5,
      "metadata": {
        "colab": {
          "base_uri": "https://localhost:8080/"
        },
        "id": "e3p4QzQJFLA_",
        "outputId": "59e32492-e912-4ddf-9f2a-e9dd1fc15fb7"
      },
      "outputs": [
        {
          "output_type": "stream",
          "name": "stdout",
          "text": [
            "Exclusions []\n"
          ]
        }
      ],
      "source": [
        "def get_ordered_list():\n",
        "    ordered_list = \\\n",
        "    ['A549','H1.hESC','HeLa.S3','HepG2','HT1080',\\\n",
        "      'HUVEC','MCF.7','NCI.H460','NHEK','SK.MEL.5',\\\n",
        "      'SK.N.DZ','SK.N.SH','GM12878','K562','IMR.90']\n",
        "    return ordered_list\n",
        "all_cell_lines = get_ordered_list()\n",
        "EXCLUSIONS = []  # exclude nothing; input file has only 1 value not 15 per line   \n",
        "print('Exclusions',EXCLUSIONS)"
      ]
    },
    {
      "cell_type": "code",
      "execution_count": 6,
      "metadata": {
        "id": "wIyjti5AT6Ff"
      },
      "outputs": [],
      "source": [
        "from tensorflow import keras\n",
        "from keras import models\n",
        "import pickle\n",
        "\n",
        "def save_model(model, discriminator, filename1, filename2):\n",
        "    filepath = MODEL_DIR + filename1\n",
        "    model.save(filepath)\n",
        "    print('Saved model 1 to',filepath)\n",
        "    filepath = MODEL_DIR + filename2\n",
        "    pickle.dump(discriminator, open(filepath, 'wb'))\n",
        "    print('Saved model 2 to',filepath)\n",
        "\n",
        "def load_model(filename1, filename2):\n",
        "    filepath = MODEL_DIR + filename1\n",
        "    model = keras.models.load_model(filepath)\n",
        "    print('Loaded model 1 from',filepath)\n",
        "    filepath = MODEL_DIR + filename2\n",
        "    discriminator = pickle.load(open(filepath, 'rb'))        \n",
        "    print('Loaded model 2 from',filepath)\n",
        "    return model, discriminator"
      ]
    },
    {
      "cell_type": "code",
      "execution_count": 7,
      "metadata": {
        "colab": {
          "base_uri": "https://localhost:8080/",
          "height": 1000
        },
        "id": "XC9m0W-pFLBH",
        "outputId": "bcc30f42-6812-4b97-e24e-dfd820102bc2",
        "scrolled": false
      },
      "outputs": [
        {
          "output_type": "stream",
          "name": "stdout",
          "text": [
            "2023-05-01 22:05:15.885141\n",
            "Load RCI from /content/drive/My Drive/data/Localization/TrainTest/TrainTest_ver43/train.H1_RCI.csv\n",
            "Number of RCI values loaded 3735\n",
            "Num RCI: 3735\n",
            "Load sequence from /content/drive/My Drive/data/Localization/TrainTest/TrainTest_ver43/train.canon_H1_transcripts.csv\n",
            "Loaded 3735 sequences.\n",
            "Load RCI from /content/drive/My Drive/data/Localization/TrainTest/TrainTest_ver43/test.H1_RCI.csv\n",
            "Number of RCI values loaded 934\n",
            "Num RCI: 934\n",
            "Load sequence from /content/drive/My Drive/data/Localization/TrainTest/TrainTest_ver43/test.canon_H1_transcripts.csv\n",
            "Loaded 934 sequences.\n",
            "\n",
            "Training # 1 1\n",
            "2023-05-01 22:05:26.781096\n",
            "Loaded model 1 from /content/drive/My Drive/data/Localization/Models/hESC_mlp.1.3.model\n",
            "Loaded model 2 from /content/drive/My Drive/data/Localization/Models/hESC_gmm.1.3.pickle\n",
            "\n",
            "Testing # 1 1\n",
            "2023-05-01 22:05:29.963980\n",
            "PREDICT\n",
            "Test 1:0 588:346 62.96%\n",
            "Predict 1:0 701:233 75.05%\n",
            "Test sizes (934, 1025) (934,)\n",
            "Distrib of scores: 0.61940324 mean 0.1722679 std\n",
            "Range of scores: 0.115129076 to 0.91022474\n",
            "Score threshold 0.5\n",
            "Confusion matrix\n",
            " [[136 210]\n",
            " [ 97 491]]\n",
            "Normalized matrix\n",
            " [[0.14561028 0.2248394 ]\n",
            " [0.10385439 0.52569593]]\n",
            "Extreme scores correct, pos:neg 361 69\n",
            "Extreme scores incorrect pos:neg 116 22\n"
          ]
        },
        {
          "output_type": "display_data",
          "data": {
            "text/plain": [
              "<Figure size 640x480 with 1 Axes>"
            ],
            "image/png": "[encoded data removed]"
          },
          "metadata": {}
        },
        {
          "output_type": "display_data",
          "data": {
            "text/plain": [
              "<Figure size 640x480 with 1 Axes>"
            ],
            "image/png": "[encoded data removed]"
          },
          "metadata": {}
        },
        {
          "output_type": "stream",
          "name": "stdout",
          "text": [
            "Accuracy: 67.13% Precision: 70.04% Recall: 83.50%\n",
            "F1: 76.18% MCC: 0.2546\n",
            "AUPRC: 76.01% AUROC: 68.26%\n",
            " accuracy [67.13062098501071]\n",
            " precision [70.04279600570614]\n",
            " recall [83.50340136054422]\n",
            " F1 [76.18308766485647]\n",
            " MCC [0.25457189403730246]\n",
            " AUPRC [76.01321530183422]\n",
            " AUROC [68.26019425111085]\n",
            "2023-05-01 22:05:31.050373\n"
          ]
        }
      ],
      "source": [
        "print(datetime.now())\n",
        "\n",
        "accuracy=[]\n",
        "precision=[]\n",
        "recall=[]\n",
        "f1=[]\n",
        "mcc=[]\n",
        "auprc=[]\n",
        "auroc=[]\n",
        "\n",
        "loader = DataLoader(K,ALPHABET)\n",
        "filepath = DATA_DIR+RCI_FILE_TRAIN\n",
        "print(\"Load RCI from\",filepath)\n",
        "gene_to_rci = loader.load_gene_rci_values(filepath,EXCLUSIONS)\n",
        "print('Num RCI:', len(gene_to_rci.keys()))\n",
        "filepath = DATA_DIR+SEQ_FILE_TRAIN\n",
        "print('Load sequence from',filepath)\n",
        "allids,allseq = loader.load_spectra(filepath)  # for MLP (load_sequence() for CNN)\n",
        "print('Loaded',len(allseq),'sequences.')\n",
        "test_gene_to_rci = None\n",
        "test_allids = None\n",
        "test_allseq = None\n",
        "if SEQ_FILE_TEST is not None:\n",
        "    # Train on the entire train set (no cross-validation).\n",
        "    # Evaluate with the test files.\n",
        "    test_loader = DataLoader(K,ALPHABET)\n",
        "    filepath = DATA_DIR+RCI_FILE_TEST\n",
        "    print(\"Load RCI from\",filepath)\n",
        "    test_gene_to_rci = test_loader.load_gene_rci_values(filepath,EXCLUSIONS)\n",
        "    print('Num RCI:', len(test_gene_to_rci.keys()))\n",
        "    filepath = DATA_DIR+SEQ_FILE_TEST\n",
        "    print('Load sequence from',filepath)\n",
        "    test_allids,test_allseq = test_loader.load_spectra(filepath)\n",
        "    print('Loaded',len(test_allseq),'sequences.')\n",
        "\n",
        "for repeat in range(REPEATS):\n",
        "    for fold in range(FOLDS):\n",
        "        show_r = repeat+1  # display one-based counting\n",
        "        show_f = fold+1    # display one-based counting\n",
        "\n",
        "        print()\n",
        "        print(\"Training #\",show_r,show_f)\n",
        "        print(datetime.now())\n",
        "        builder = ModelBuilder(ALPHABET)\n",
        "        cvdo = CrossValidator(EPOCHS,RCI_THRESHOLD_VALUE)\n",
        "        cvdo.set_model_builder(builder)\n",
        "        cvdo.set_threshold_mechanism(RCI_THRESHOLD_MECHANISM)\n",
        "        if SEQ_FILE_TEST is None:\n",
        "            # Train on 80% and evaluate on 20%.\n",
        "            separator = Separator('h1')  # use files like h1.1.1.validation_genes.txt\n",
        "            separator.set_middle(FILTER_TEST,FILTER_TAILS_TEST,FILTER_MIDDLE_TEST,\\\n",
        "                                 FILTER_TRAIN,FILTER_TAILS_TRAIN,FILTER_MIDDLE_TRAIN,\\\n",
        "                                 MIDDLE_LOW,MIDDLE_HIGH)\n",
        "            separator.load(DATA_DIR,show_r,show_f)\n",
        "            separator.process(allids,allseq,gene_to_rci)\n",
        "            train_allids,test_allids = separator.get_ids()\n",
        "            train_allseq,test_allseq = separator.get_seq()\n",
        "            train_gene_to_rci,test_gene_to_rci = separator.get_rci()\n",
        "            cvdo.train_new_model(\n",
        "                train_allids,train_allseq,train_gene_to_rci,\n",
        "                test_allids,test_allseq,test_gene_to_rci)\n",
        "            if SAVE_MODEL_FILENAME is not None:\n",
        "                filename1 = f\"{SAVE_MODEL_FILENAME}.{show_r}.{show_f}.model\"\n",
        "                filename2 = f\"{SAVE_DESCRIM_FILENAME}.{show_r}.{show_f}.pickle\"\n",
        "                model,discrim = cvdo.get_models()\n",
        "                save_model(model,discrim,filename1,filename2)\n",
        "        else:\n",
        "            # Train on the entire train set (no cross-validation).\n",
        "            # Evaluate with the test files.\n",
        "            train_allids = allids\n",
        "            train_allseq = allseq\n",
        "            train_gene_to_rci = gene_to_rci\n",
        "            BREAK = True\n",
        "            if LOAD_MODEL_FILENAME is not None:\n",
        "                filename1 = LOAD_MODEL_FILENAME\n",
        "                filename2 = LOAD_DESCRIM_FILENAME\n",
        "                model, descrim = load_model(filename1, filename2)\n",
        "                cvdo.set_models(model, descrim)\n",
        "            else:\n",
        "                cvdo.train_new_model(\n",
        "                    train_allids,train_allseq,train_gene_to_rci,\n",
        "                    None,None,None)\n",
        "\n",
        "        print()\n",
        "        print(\"Testing #\",show_r,show_f)\n",
        "        print(datetime.now())\n",
        "        cvdo.reset_statistics()\n",
        "        cvdo.test_without_training(\n",
        "            test_allids,test_allseq,test_gene_to_rci)\n",
        "        cv_accuracy,cv_precision,cv_recall,cv_f1,cv_mcc,cv_auprc,cv_auroc=\\\n",
        "            cvdo.get_statistics()\n",
        "\n",
        "        print(\" accuracy\" ,  cv_accuracy)\n",
        "        print(\" precision\" , cv_precision)\n",
        "        print(\" recall\" ,    cv_recall)\n",
        "        print(\" F1\" ,        cv_f1)\n",
        "        print(\" MCC\" ,       cv_mcc)\n",
        "        print(\" AUPRC\" ,     cv_auprc)\n",
        "        print(\" AUROC\" ,     cv_auroc)\n",
        "\n",
        "        accuracy.append(cv_accuracy)\n",
        "        precision.append(cv_precision)\n",
        "        recall.append(cv_recall)\n",
        "        f1.append(cv_f1)\n",
        "        mcc.append(cv_mcc)\n",
        "        auprc.append(cv_auprc)\n",
        "        auroc.append(cv_auroc)\n",
        "        if BREAK: break\n",
        "    if BREAK: break\n",
        "print(datetime.now())"
      ]
    },
    {
      "cell_type": "code",
      "execution_count": 8,
      "metadata": {
        "colab": {
          "base_uri": "https://localhost:8080/"
        },
        "id": "HkCeDg_HdQ36",
        "outputId": "5dc0193a-a591-474c-aa78-99449d968260"
      },
      "outputs": [
        {
          "output_type": "stream",
          "name": "stdout",
          "text": [
            " accuracy mean 67.13% std nan\n",
            " precision mean 70.04% std nan\n",
            " recall mean 83.50% std nan\n",
            " F1 mean 76.18% std nan\n",
            " MCC mean 0.2546 std nan\n",
            " AUPRC mean 76.01% std nan\n",
            " AUROC mean 68.26% std nan\n",
            " accuracy [[67.13062098501071]]\n",
            " precision [[70.04279600570614]]\n",
            " recall [[83.50340136054422]]\n",
            " F1 [[76.18308766485647]]\n",
            " MCC [[0.25457189403730246]]\n",
            " AUPRC [[76.01321530183422]]\n",
            " AUROC [[68.26019425111085]]\n"
          ]
        },
        {
          "output_type": "stream",
          "name": "stderr",
          "text": [
            "/usr/local/lib/python3.10/dist-packages/numpy/core/_methods.py:264: RuntimeWarning: Degrees of freedom <= 0 for slice\n",
            "  ret = _var(a, axis=axis, dtype=dtype, out=out, ddof=ddof,\n",
            "/usr/local/lib/python3.10/dist-packages/numpy/core/_methods.py:256: RuntimeWarning: invalid value encountered in double_scalars\n",
            "  ret = ret.dtype.type(ret / rcount)\n"
          ]
        }
      ],
      "source": [
        "def STD (values):\n",
        "    # ddof=1 reduces bias when extrapolating from sample to population\n",
        "    return np.std(values,ddof=1)\n",
        "\n",
        "print(\" accuracy mean %.2f%% std %.2f\" %  (np.mean(accuracy),  STD(accuracy)))\n",
        "print(\" precision mean %.2f%% std %.2f\" % (np.mean(precision), STD(precision)))\n",
        "print(\" recall mean %.2f%% std %.2f\" %    (np.mean(recall),    STD(recall)))\n",
        "print(\" F1 mean %.2f%% std %.2f\" %        (np.mean(f1),        STD(f1)))\n",
        "print(\" MCC mean %.4f std %.4f\" %       (np.mean(mcc),       STD(mcc)))\n",
        "print(\" AUPRC mean %.2f%% std %.2f\" %     (np.mean(auprc),     STD(auprc)))\n",
        "print(\" AUROC mean %.2f%% std %.2f\" %     (np.mean(auroc),     STD(auroc)))\n",
        "\n",
        "print(\" accuracy\"  , accuracy)\n",
        "print(\" precision\" , precision)\n",
        "print(\" recall\"    , recall)\n",
        "print(\" F1\"        , f1)\n",
        "print(\" MCC\"       , mcc)\n",
        "print(\" AUPRC\"     , auprc)\n",
        "print(\" AUROC\"     , auroc)\n",
        "\n"
      ]
    },
    {
      "cell_type": "code",
      "execution_count": 8,
      "metadata": {
        "id": "QjSVa72v4IsA"
      },
      "outputs": [],
      "source": []
    }
  ],
  "metadata": {
    "colab": {
      "provenance": []
    },
    "gpuClass": "standard",
    "kernelspec": {
      "display_name": "Python 3 (ipykernel)",
      "language": "python",
      "name": "python3"
    },
    "language_info": {
      "codemirror_mode": {
        "name": "ipython",
        "version": 3
      },
      "file_extension": ".py",
      "mimetype": "text/x-python",
      "name": "python",
      "nbconvert_exporter": "python",
      "pygments_lexer": "ipython3",
      "version": "3.10.0"
    }
  },
  "nbformat": 4,
  "nbformat_minor": 0
}